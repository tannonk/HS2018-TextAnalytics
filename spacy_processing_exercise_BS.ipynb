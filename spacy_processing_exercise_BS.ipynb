{
 "cells": [
  {
   "cell_type": "raw",
   "metadata": {},
   "source": [
    "## Install necessary dependencies.\n",
    "##\n",
    "## scpacy (https://spacy.io/usage/#section-quickstart):\n",
    "##     $ pip install -U spacy\n",
    "## if you use conda:\n",
    "##     $ conda install -c conda-forge spacy \n",
    "## spacy's English language model:\n",
    "##     $ python -m spacy download en\n",
    "## gensim (https://radimrehurek.com/gensim/install.html):\n",
    "##     $ pip install --upgrade gensim\n",
    "## or, if you use conda:\n",
    "##     $ conda install -c conda-forge gensim"
   ]
  },
  {
   "cell_type": "code",
   "execution_count": 13,
   "metadata": {},
   "outputs": [],
   "source": [
    "import re\n",
    "import spacy\n",
    "from gensim import corpora # necessary for building dictionary and bag of words representation\n",
    "from gensim import models # necessary for Phrases, LDA model and TFIDF"
   ]
  },
  {
   "cell_type": "raw",
   "metadata": {},
   "source": [
    "## If there's time, could also work out how to visualise the results with PyLDA"
   ]
  },
  {
   "cell_type": "code",
   "execution_count": 14,
   "metadata": {},
   "outputs": [],
   "source": [
    "corpus = \"snf_html_corpus_simple.txt\"\n",
    "\n",
    "raw_corpus = []\n",
    "\n",
    "with open(corpus, \"r\", encoding=\"utf8\") as inf:    \n",
    "    doc = \"\"\n",
    "    for line in inf:\n",
    "        if not line.startswith(\"\\n\"): # we are inside a document\n",
    "            line = re.sub(\"\\xa0\", \" \", line.rstrip())\n",
    "            doc += line.lower() # lower and add the line to the document string\n",
    "        else: # we are at a document boundary\n",
    "            if len(doc) > 380: # ignore shorter documents\n",
    "                raw_corpus.append(doc) # should end up with 110 articles in list of docs \n",
    "            doc = \"\"\n",
    "\n",
    "# inspect the raw_corpus:\n",
    "# raw_corpus"
   ]
  },
  {
   "cell_type": "raw",
   "metadata": {},
   "source": [
    "## Corpus with no preprocessing:"
   ]
  },
  {
   "cell_type": "code",
   "execution_count": 15,
   "metadata": {},
   "outputs": [],
   "source": [
    "corpus = [doc.split() for doc in raw_corpus]"
   ]
  },
  {
   "cell_type": "raw",
   "metadata": {},
   "source": [
    "## Have a look at Spacy's English language model - https://spacy.io/models/en#section-en_core_web_md"
   ]
  },
  {
   "cell_type": "code",
   "execution_count": 16,
   "metadata": {},
   "outputs": [],
   "source": [
    "nlp = spacy.load(\"en\")"
   ]
  },
  {
   "cell_type": "raw",
   "metadata": {},
   "source": [
    "# testing on one doc:\n",
    "\n",
    "# pro_doc = nlp(docs[0])\n",
    "# print(pro_doc)\n",
    "\n",
    "# Inspect entities found\n",
    "# pro_doc.ents\n",
    "\n",
    "# for token in pro_doc[:100]:\n",
    "#     print(token.text, token.lemma_, token.pos_, token.tag_,\n",
    "#           token.dep_, token.shape_, token.is_alpha, token.is_stop)"
   ]
  },
  {
   "cell_type": "code",
   "execution_count": 17,
   "metadata": {},
   "outputs": [],
   "source": [
    "trained_phrases = models.phrases.Phrases(corpus) # train a phrase model\n",
    "phraser = models.phrases.Phraser(trained_phrases) # initialise the trained phraser model\n",
    "corpus_phrased = [phraser[text] for text in corpus] # apply phraser model to each text in corpus\n",
    "# inspect the first text in the corpus after applying the phrase model\n",
    "# corpus_phrased[0]"
   ]
  },
  {
   "cell_type": "code",
   "execution_count": 18,
   "metadata": {},
   "outputs": [],
   "source": [
    "dictionary = corpora.Dictionary(corpus_phrased)\n",
    "mapped_corpus = [dictionary.doc2bow(doc) for doc in corpus_phrased]\n",
    "# inspect mapped_corpus\n",
    "# corpus[1][0:10]"
   ]
  },
  {
   "cell_type": "code",
   "execution_count": 19,
   "metadata": {},
   "outputs": [],
   "source": [
    "def print_topics_gensim(topic_model, total_topics=1, weight_threshold=0.0001, num_terms=None):\n",
    "    \"\"\"Adapted pretty print topic model results from Sakar (2016) Text Analytics With Python.\"\"\"\n",
    "    for index in range(total_topics):\n",
    "        topic = topic_model.show_topic(index)\n",
    "        topic = [(word, round(wt,4)) for word, wt in topic if abs(wt) >= weight_threshold]\n",
    "        print('Topic #'+str(index+1))\n",
    "        print(topic[:num_terms] if num_terms else topic)\n",
    "        print()\n",
    "\n",
    "def train_lda_model_gensim(corpus, total_topics=2):\n",
    "    \"\"\"Adapted pretty print topic model results from Sakar (2016) Text Analytics With Python.\"\"\"\n",
    "    dictionary = corpora.Dictionary(corpus)\n",
    "    mapped_corpus = [dictionary.doc2bow(text) for text in corpus]\n",
    "    tfidf = models.TfidfModel(mapped_corpus)\n",
    "    corpus_tfidf = tfidf[mapped_corpus]\n",
    "    lda = models.LdaModel(corpus_tfidf, id2word=dictionary, iterations=1000, num_topics=total_topics)\n",
    "    return lda"
   ]
  },
  {
   "cell_type": "code",
   "execution_count": 20,
   "metadata": {},
   "outputs": [],
   "source": [
    "def run_model_for_X_topics(X=2):\n",
    "    lda_gensim = train_lda_model_gensim(corpus_phrased, total_topics=X)\n",
    "    print_topics_gensim(topic_model=lda_gensim, total_topics=X, num_terms=10)"
   ]
  },
  {
   "cell_type": "code",
   "execution_count": 21,
   "metadata": {},
   "outputs": [
    {
     "name": "stdout",
     "output_type": "stream",
     "text": [
      "Topic #1\n",
      "[('wings', 0.0003), ('retirees', 0.0003), ('conservation', 0.0003), ('asylum', 0.0003), ('paramecia', 0.0003), ('magnetic', 0.0003), ('holmium', 0.0003), ('nature', 0.0003), ('junk', 0.0002), ('sequences', 0.0002)]\n",
      "\n",
      "Topic #2\n",
      "[('patient', 0.0004), ('gravitational', 0.0003), ('public', 0.0003), ('science_studies', 0.0003), ('collections', 0.0003), ('indienne', 0.0003), ('games', 0.0003), ('species', 0.0003), ('justice', 0.0003), ('science', 0.0003)]\n",
      "\n",
      "Topic #3\n",
      "[('she', 0.0005), ('memristors', 0.0004), ('drugs', 0.0004), ('her', 0.0004), ('rudolf_von', 0.0004), ('i', 0.0003), ('language', 0.0003), ('temporary', 0.0003), ('women', 0.0003), ('populists', 0.0003)]\n",
      "\n",
      "Topic #4\n",
      "[('development', 0.0006), ('felli', 0.0005), ('caffeine', 0.0004), ('global', 0.0004), ('research', 0.0004), (\"it's\", 0.0003), ('sustainable', 0.0003), ('countries', 0.0003), ('her', 0.0003), ('international', 0.0003)]\n",
      "\n",
      "Topic #5\n",
      "[('selenium', 0.0006), ('brain', 0.0004), ('oscillations', 0.0003), ('paralytic', 0.0003), ('amygdala', 0.0002), ('“groundbreaking”', 0.0002), ('editors,', 0.0002), ('submit', 0.0002), ('“leader', 0.0002), ('email', 0.0002)]\n",
      "\n",
      "Topic #6\n",
      "[('zebrafish', 0.0004), ('papetti', 0.0004), ('3d', 0.0003), ('turkey.', 0.0003), ('punishment', 0.0003), ('wubs', 0.0003), ('robot', 0.0003), ('nanotransporters', 0.0003), ('aerogel', 0.0003), ('photon', 0.0003)]\n",
      "\n",
      "Topic #7\n",
      "[('coal', 0.0004), ('players', 0.0004), ('dnns', 0.0004), ('you', 0.0003), ('wood', 0.0003), ('soil', 0.0003), ('briquettes', 0.0003), ('our', 0.0003), ('self-experimentation', 0.0003), ('we', 0.0003)]\n",
      "\n",
      "Topic #8\n",
      "[('vayena', 0.0005), ('sign_language', 0.0004), ('roska', 0.0004), ('health', 0.0003), ('he', 0.0003), ('data', 0.0003), ('sign', 0.0003), ('energy', 0.0003), ('coronavirus', 0.0003), ('virus', 0.0003)]\n",
      "\n",
      "Topic #9\n",
      "[('disgust', 0.0004), ('videos', 0.0003), ('zurbuchen', 0.0003), ('doctoral', 0.0003), ('general_consent', 0.0003), ('submitted', 0.0003), ('power', 0.0003), ('her', 0.0003), ('lakes', 0.0003), ('winds', 0.0003)]\n",
      "\n",
      "Topic #10\n",
      "[('fingers', 0.0005), ('cement', 0.0004), ('water', 0.0003), ('i', 0.0003), ('children', 0.0003), ('crop', 0.0003), ('pelican', 0.0003), ('elephants', 0.0003), ('mountain', 0.0003), ('relative', 0.0003)]\n",
      "\n"
     ]
    }
   ],
   "source": [
    "run_model_for_X_topics(10)"
   ]
  }
 ],
 "metadata": {
  "kernelspec": {
   "display_name": "Python 3",
   "language": "python",
   "name": "python3"
  },
  "language_info": {
   "codemirror_mode": {
    "name": "ipython",
    "version": 3
   },
   "file_extension": ".py",
   "mimetype": "text/x-python",
   "name": "python",
   "nbconvert_exporter": "python",
   "pygments_lexer": "ipython3",
   "version": "3.6.4"
  }
 },
 "nbformat": 4,
 "nbformat_minor": 2
}
